{
 "cells": [
  {
   "cell_type": "code",
   "execution_count": null,
   "source": [
    "# importing libraries\r\n",
    "import numpy as np\r\n",
    "import pandas as pd\r\n",
    "import matplotlib.pyplot as plt\r\n",
    "import seaborn as sns\r\n",
    "import missingno as msno\r\n",
    "import plotly.express as px\r\n",
    "from PIL import Image\r\n",
    "\r\n",
    "import warnings\r\n",
    "warnings.filterwarnings('ignore')\r\n",
    "plt.style.use('seaborn')\r\n",
    "\r\n",
    "%matplotlib inline"
   ],
   "outputs": [],
   "metadata": {}
  },
  {
   "cell_type": "code",
   "execution_count": null,
   "source": [
    "pip install haversine"
   ],
   "outputs": [],
   "metadata": {}
  },
  {
   "cell_type": "code",
   "execution_count": null,
   "source": [
    "from haversine import haversine\r\n",
    "\r\n",
    "from sklearn.model_selection import train_test_split\r\n",
    "from sklearn.metrics import mean_squared_error\r\n",
    "from sklearn.model_selection import GridSearchCV, cross_val_score\r\n",
    "from sklearn.ensemble import RandomForestRegressor\r\n",
    "import lightgbm as lgb"
   ],
   "outputs": [],
   "metadata": {}
  },
  {
   "cell_type": "code",
   "execution_count": null,
   "source": [
    "#Descriptions of the dataset used\r\n",
    "train_df = pd.read_csv(\"/kaggle/input/new-york-city-taxi-fare-prediction/train.csv\", nrows= 50000, parse_dates=[\"pickup_datetime\"])\r\n",
    "test_df = pd.read_csv('/kaggle/input/new-york-city-taxi-fare-prediction/test.csv', parse_dates=[\"pickup_datetime\"])\r\n",
    "train_df.head()"
   ],
   "outputs": [],
   "metadata": {}
  },
  {
   "cell_type": "code",
   "execution_count": null,
   "source": [
    "train_df.shape"
   ],
   "outputs": [],
   "metadata": {}
  },
  {
   "cell_type": "code",
   "execution_count": null,
   "source": [
    "train_df.info()"
   ],
   "outputs": [],
   "metadata": {}
  },
  {
   "cell_type": "code",
   "execution_count": null,
   "source": [
    "train_df.describe()"
   ],
   "outputs": [],
   "metadata": {}
  },
  {
   "cell_type": "code",
   "execution_count": null,
   "source": [
    "Spectral_palette = sns.color_palette(\"Spectral\", 10)\r\n",
    "sns.palplot(Spectral_palette)"
   ],
   "outputs": [],
   "metadata": {}
  },
  {
   "cell_type": "code",
   "execution_count": null,
   "source": [
    "train_df.head()"
   ],
   "outputs": [],
   "metadata": {}
  },
  {
   "cell_type": "code",
   "execution_count": null,
   "source": [
    "f, ax = plt.subplots(1,1, figsize=(8,6))\r\n",
    "msno.bar(train_df, ax=ax, color=Spectral_palette[7])\r\n",
    "plt.title('Null Values')\r\n",
    "plt.show()"
   ],
   "outputs": [],
   "metadata": {}
  },
  {
   "cell_type": "code",
   "execution_count": null,
   "source": [
    "pd.DataFrame(train_df.isnull().sum(), columns=[\"Train Null Count\"])"
   ],
   "outputs": [],
   "metadata": {}
  },
  {
   "cell_type": "code",
   "execution_count": null,
   "source": [
    "pd.DataFrame(test_df.isnull().sum(), columns=[\"Test Null Count\"])"
   ],
   "outputs": [],
   "metadata": {}
  },
  {
   "cell_type": "code",
   "execution_count": null,
   "source": [
    "train_df.head()"
   ],
   "outputs": [],
   "metadata": {}
  },
  {
   "cell_type": "code",
   "execution_count": null,
   "source": [
    "# total distance\r\n",
    "train_df['total_distance'] = train_df.apply(lambda x: get_total_distance(x),axis=1)\r\n",
    "test_df['total_distance'] = test_df.apply(lambda x: get_total_distance(x),axis=1)\r\n",
    "train_df.head()"
   ],
   "outputs": [],
   "metadata": {}
  },
  {
   "cell_type": "code",
   "execution_count": null,
   "source": [
    "Spectral_palette"
   ],
   "outputs": [],
   "metadata": {}
  },
  {
   "cell_type": "code",
   "execution_count": null,
   "source": [
    "fig = plt.figure(figsize=(8,9))\r\n",
    "\r\n",
    "for i in range(2):\r\n",
    "    plt.subplot(2, 1, i+1)\r\n",
    "    plt.title(\"Train Data index {} | Distance :{:.3f}\".format(i, train_df['total_distance'][i]))\r\n",
    "    plt.scatter(train_df['pickup_longitude'][i], train_df['pickup_latitude'][i], color=Spectral_palette[1], label=\"Pick up location\")\r\n",
    "    plt.scatter(train_df['dropoff_longitude'][i], train_df['dropoff_latitude'][i], color=Spectral_palette[-1], label=\"Drop off location\")\r\n",
    "    plt.plot([train_df['pickup_longitude'][i],train_df['dropoff_longitude'][i]],[train_df['pickup_latitude'][i],train_df['dropoff_latitude'][i]],'k:')\r\n",
    "    plt.axis('off')\r\n",
    "    plt.legend()\r\n",
    "    \r\n",
    "fig.text(0.05,0.95,\"Length by pickup location and drop off location\", fontweight=\"bold\", fontfamily='serif', fontsize=20)\r\n",
    "plt.show()"
   ],
   "outputs": [],
   "metadata": {}
  },
  {
   "cell_type": "code",
   "execution_count": null,
   "source": [
    "# Plot the latitude\r\n",
    "f = px.scatter_3d(train_df[:10000], x='pickup_latitude', y='pickup_longitude', z='total_distance',\r\n",
    "                    color='fare_amount')\r\n",
    "f.show()"
   ],
   "outputs": [],
   "metadata": {}
  },
  {
   "cell_type": "code",
   "execution_count": null,
   "source": [
    "# Plot the longitude\r\n",
    "f = px.scatter_3d(train_df[:10000], x='dropoff_latitude', y='dropoff_longitude', z='total_distance',\r\n",
    "                    color='fare_amount')\r\n",
    "f.show()"
   ],
   "outputs": [],
   "metadata": {}
  },
  {
   "cell_type": "code",
   "execution_count": null,
   "source": [
    "# Plot the each rows year\r\n",
    "train_df['pickup_datetime_year'] = train_df['pickup_datetime'].dt.year\r\n",
    "train_df.head()"
   ],
   "outputs": [],
   "metadata": {}
  },
  {
   "cell_type": "code",
   "execution_count": null,
   "source": [
    "# ploting ech row\r\n",
    "train_df['pickup_datetime_year'] = train_df['pickup_datetime'].dt.year\r\n",
    "train_df.head()"
   ],
   "outputs": [],
   "metadata": {}
  },
  {
   "cell_type": "code",
   "execution_count": null,
   "source": [
    "train_df['pickup_datetime_year'].value_counts()"
   ],
   "outputs": [],
   "metadata": {}
  },
  {
   "cell_type": "code",
   "execution_count": null,
   "source": [
    "fig, ax = plt.subplots(1,1, figsize=(6, 4), constrained_layout=True)\r\n",
    "\r\n",
    "ax = sns.countplot(train_df['pickup_datetime_year'], palette=Spectral_palette)\r\n",
    "ax.patch.set_alpha(0)\r\n",
    "ax.set_xlabel(\"\")\r\n",
    "ax.set_ylabel(\"\")\r\n",
    "fig.text(0.08,1.03,\"Count of data by year\", fontweight=\"bold\", fontfamily='serif', fontsize=18)\r\n",
    "plt.show()"
   ],
   "outputs": [],
   "metadata": {}
  },
  {
   "cell_type": "code",
   "execution_count": null,
   "source": [
    "# plotinng histogram\r\n",
    "df_index =[1,3,4,5,6,7]\r\n",
    "fig = plt.figure(figsize=(10,8))\r\n",
    "\r\n",
    "for num, i in enumerate(df_index):\r\n",
    "    plt.subplot(3,2,num+1)\r\n",
    "    plt.title(\"{} Column\".format(train_df.columns[i]))\r\n",
    "    plt.boxplot(train_df.iloc[:,i])\r\n",
    "\r\n",
    "fig.text(0.08,0.94,\"Boxplot the each columns\", fontweight=\"bold\", fontfamily='serif', fontsize=18)\r\n",
    "plt.show()"
   ],
   "outputs": [],
   "metadata": {}
  },
  {
   "cell_type": "code",
   "execution_count": null,
   "source": [
    "df_index =[1,3,4,5,6,7]\r\n",
    "fig = plt.figure(figsize=(12,8))\r\n",
    "\r\n",
    "for num, i in enumerate(df_index):\r\n",
    "    plt.subplot(2, 3,num+1)\r\n",
    "    plt.title(\"{} Column\".format(train_df.columns[i]))\r\n",
    "    plt.hist(train_df.iloc[:,i], color=Spectral_palette[num])\r\n",
    "\r\n",
    "fig.text(0.08,0.94,\"Histogram the each columns\", fontweight=\"bold\", fontfamily='serif', fontsize=18)\r\n",
    "plt.show()"
   ],
   "outputs": [],
   "metadata": {}
  },
  {
   "cell_type": "code",
   "execution_count": null,
   "source": [
    "df_index =[1,3,4,5,6,7]\r\n",
    "fig = plt.figure(figsize=(14,10))\r\n",
    "\r\n",
    "for num, i in enumerate(df_index):\r\n",
    "    plt.subplot(2,3,num+1)\r\n",
    "    plt.title(\"{} Column\".format(train_df.columns[i]))\r\n",
    "    sns.kdeplot(train_df.iloc[:,i], fill=True, lw=1.7, alpha=0.7, color=Spectral_palette[num+4])\r\n",
    "\r\n",
    "fig.text(0.08,0.94,\"KdePlot the each columns\", fontweight=\"bold\", fontfamily='serif', fontsize=18)\r\n",
    "plt.show()"
   ],
   "outputs": [],
   "metadata": {}
  },
  {
   "cell_type": "code",
   "execution_count": null,
   "source": [
    "# Data preparation and preprocessing\r\n",
    "\r\n",
    "# outliers\r\n",
    "def data_cleansing(df, data=\"Train\"):\r\n",
    "    \r\n",
    "    print(\"Before cleansing shape : {}\".format(df.shape))\r\n",
    "    print(\"----- CLEANSING -----\")\r\n",
    "    \r\n",
    "    if data==\"Train\":\r\n",
    "        df = df.drop(df[df['fare_amount'] <= 2].index)\r\n",
    "        df = df.drop(df[df['fare_amount'] >= 100].index)\r\n",
    "        print(df.shape)\r\n",
    "    \r\n",
    "    df = df.drop(df[df['pickup_longitude'] <= -74.5].index)\r\n",
    "    df = df.drop(df[df['pickup_longitude'] >= -73.5].index)\r\n",
    "    print(df.shape)\r\n",
    "   \r\n",
    "    df = df.drop(df[df['pickup_latitude'] <= 40.4].index)\r\n",
    "    df = df.drop(df[df['pickup_latitude'] >= 41].index)\r\n",
    "    print(df.shape)\r\n",
    "   \r\n",
    "    df = df.drop(df[df['dropoff_longitude'] <= -74.5].index)\r\n",
    "    df = df.drop(df[df['dropoff_longitude'] >= -73.5].index)\r\n",
    "    print(df.shape)\r\n",
    "   \r\n",
    "    df = df.drop(df[df['dropoff_latitude'] <= 40.4].index)\r\n",
    "    df = df.drop(df[df['dropoff_latitude'] >= 41].index)\r\n",
    "    print(df.shape)\r\n",
    "       \r\n",
    "    # No more than 7 passengers are allowed on board.\r\n",
    "    df = df.drop(df[df['passenger_count'] <= 0].index)\r\n",
    "    df = df.drop(df[df['passenger_count'] >= 7].index)\r\n",
    "    \r\n",
    "    print(\"----- CLEANSING -----\")\r\n",
    "    print(\"After cleansing shape : {}\".format(df.shape))\r\n",
    "    \r\n",
    "    return df"
   ],
   "outputs": [],
   "metadata": {}
  },
  {
   "cell_type": "code",
   "execution_count": null,
   "source": [
    "train_df['fare_amount'].sort_values(ascending=False)\r\n"
   ],
   "outputs": [],
   "metadata": {}
  },
  {
   "cell_type": "code",
   "execution_count": null,
   "source": [
    "train_df = data_cleansing(train_df, \"Train\")"
   ],
   "outputs": [],
   "metadata": {}
  },
  {
   "cell_type": "code",
   "execution_count": null,
   "source": [
    "# Data Visualization\r\n",
    "\r\n",
    "f = px.scatter_3d(train_df[:10000], x='pickup_latitude', y='pickup_longitude', z='total_distance',\r\n",
    "                    color='fare_amount')\r\n",
    "f.show()"
   ],
   "outputs": [],
   "metadata": {}
  },
  {
   "cell_type": "code",
   "execution_count": null,
   "source": [
    "f = px.scatter_3d(train_df[:10000], x='dropoff_latitude', y='dropoff_longitude', z='total_distance',\r\n",
    "                    color='fare_amount')\r\n",
    "f.show()"
   ],
   "outputs": [],
   "metadata": {}
  },
  {
   "cell_type": "code",
   "execution_count": null,
   "source": [
    "map_img = plt.imread('../input/google-map-nyc-40474541735-kor-version/google_map_NYC_(40.4-74.541-73.5)_KOR_VERSION.png')"
   ],
   "outputs": [],
   "metadata": {}
  },
  {
   "cell_type": "code",
   "execution_count": null,
   "source": [
    "plt.imshow(map_img)\r\n",
    "plt.show()"
   ],
   "outputs": [],
   "metadata": {}
  },
  {
   "cell_type": "code",
   "execution_count": null,
   "source": [
    "def plot_map(df, map_img, s=10, alpha=0.2):\r\n",
    "    f, ax = plt.subplots(1, 2, figsize=(16,8))\r\n",
    "    ax[0].scatter(df.pickup_longitude, df.pickup_latitude, zorder=1, alpha=alpha, c='r', s=s)\r\n",
    "    ax[0].set_xlim(-74.5, -73.5)\r\n",
    "    ax[0].set_ylim((40.4, 41))\r\n",
    "    ax[0].set_title('Pickup locations')\r\n",
    "    ax[0].axis('off')\r\n",
    "    ax[0].imshow(map_img, zorder=0, extent=(-74.5, -73.5, 40.4, 41))\r\n",
    "\r\n",
    "    ax[1].scatter(df.dropoff_longitude, df.dropoff_latitude, zorder=1, alpha=alpha, c='r', s=s)\r\n",
    "    ax[1].set_xlim(-74.5, -73.5)\r\n",
    "    ax[1].set_ylim((40.4, 41))\r\n",
    "    ax[1].set_title('Dropoff locations')\r\n",
    "    ax[1].axes.xaxis.set_visible(False)\r\n",
    "    ax[1].axes.yaxis.set_visible(False)\r\n",
    "    ax[1].imshow(map_img, zorder=0, extent=(-74.5, -73.5, 40.4, 41))"
   ],
   "outputs": [],
   "metadata": {}
  },
  {
   "cell_type": "code",
   "execution_count": null,
   "source": [
    "plot_map(train_df[:1000], map_img)"
   ],
   "outputs": [],
   "metadata": {}
  },
  {
   "cell_type": "code",
   "execution_count": null,
   "source": [
    "# transformation/Data preparation\r\n",
    "train_df.head()"
   ],
   "outputs": [],
   "metadata": {}
  },
  {
   "cell_type": "code",
   "execution_count": null,
   "source": [
    "train_df[\"year\"] = train_df[\"pickup_datetime\"].dt.year\r\n",
    "train_df[\"weekday\"] = train_df[\"pickup_datetime\"].dt.weekday\r\n",
    "train_df[\"hour\"] = train_df[\"pickup_datetime\"].dt.hour\r\n",
    "\r\n",
    "test_df[\"year\"] = test_df[\"pickup_datetime\"].dt.year\r\n",
    "test_df[\"weekday\"] = test_df[\"pickup_datetime\"].dt.weekday\r\n",
    "test_df[\"hour\"] = test_df[\"pickup_datetime\"].dt.hour"
   ],
   "outputs": [],
   "metadata": {}
  },
  {
   "cell_type": "code",
   "execution_count": null,
   "source": [
    "train_df.head()"
   ],
   "outputs": [],
   "metadata": {}
  },
  {
   "cell_type": "code",
   "execution_count": null,
   "source": [
    "test_df.head()"
   ],
   "outputs": [],
   "metadata": {}
  },
  {
   "cell_type": "code",
   "execution_count": null,
   "source": [
    "train_df.drop(['key','pickup_datetime','pickup_datetime_year'], axis=1, inplace=True)\r\n",
    "test_df.drop(['key','pickup_datetime'], axis=1, inplace=True)\r\n",
    "train_df.head()"
   ],
   "outputs": [],
   "metadata": {}
  },
  {
   "cell_type": "code",
   "execution_count": null,
   "source": [
    "train_df.info()"
   ],
   "outputs": [],
   "metadata": {}
  },
  {
   "cell_type": "code",
   "execution_count": null,
   "source": [
    "# Model Development\r\n",
    "x = train_df.drop('fare_amount', axis=1)\r\n",
    "y = train_df['fare_amount']"
   ],
   "outputs": [],
   "metadata": {}
  },
  {
   "cell_type": "code",
   "execution_count": null,
   "source": [
    "x_train, x_test, y_train, y_test = train_test_split(x, y, test_size=0.3)\r\n",
    "print(\"X train data shape : {}\".format(x_train.shape))\r\n",
    "print(\"Y train data shape : {}\".format(y_train.shape))\r\n",
    "\r\n",
    "print(\"X test data shape : {}\".format(x_test.shape))\r\n",
    "print(\"Y test data shape : {}\".format(y_test.shape))"
   ],
   "outputs": [],
   "metadata": {}
  },
  {
   "cell_type": "code",
   "execution_count": null,
   "source": [
    "x_test, x_val, y_test, y_val = train_test_split(x_test, y_test, test_size=0.6)\r\n",
    "print(\"X validation data shape : {}\".format(x_val.shape))\r\n",
    "print(\"Y validation data shape : {}\".format(y_val.shape))\r\n",
    "\r\n",
    "print(\"X test data shape : {}\".format(x_test.shape))\r\n",
    "print(\"Y test data shape : {}\".format(y_test.shape))"
   ],
   "outputs": [],
   "metadata": {}
  },
  {
   "cell_type": "code",
   "execution_count": null,
   "source": [
    "# training\r\n",
    "train_data = lgb.Dataset(x_train, label=y_train)\r\n",
    "val_data = lgb.Dataset(x_val, label=y_val)"
   ],
   "outputs": [],
   "metadata": {}
  },
  {
   "cell_type": "code",
   "execution_count": null,
   "source": [
    "params = {\r\n",
    "    'n_estimators': 5000,\r\n",
    "    'num_leaves': 500,\r\n",
    "    'max_depth': -1,\r\n",
    "    'min_data_in_leaf': 1000,\r\n",
    "    'learning_rate': 0.003,\r\n",
    "    'boosting': 'gbdt',\r\n",
    "    'objective': 'regression',\r\n",
    "    'metric': 'mse',\r\n",
    "    'Is_training_metric': True,\r\n",
    "    'n_jobs': -1\r\n",
    "}"
   ],
   "outputs": [],
   "metadata": {}
  },
  {
   "cell_type": "code",
   "execution_count": null,
   "source": [
    "model = lgb.train(params,\r\n",
    "                  train_data,\r\n",
    "                  valid_sets=val_data, \r\n",
    "                  valid_names=['train','valid'],\r\n",
    "                  early_stopping_rounds=100)"
   ],
   "outputs": [],
   "metadata": {}
  },
  {
   "cell_type": "code",
   "execution_count": null,
   "source": [
    "# Model Evaluation/Validation\r\n",
    "print('Starting predicting...')\r\n",
    "# predict\r\n",
    "y_pred = model.predict(x_test)\r\n",
    "# eval\r\n",
    "print('The rmse of prediction is:', mean_squared_error(y_test, y_pred))"
   ],
   "outputs": [],
   "metadata": {}
  }
 ],
 "metadata": {
  "orig_nbformat": 4,
  "language_info": {
   "name": "python",
   "version": "3.9.1"
  },
  "kernelspec": {
   "name": "python3",
   "display_name": "Python 3.9.1 64-bit ('myvenv': venv)"
  },
  "interpreter": {
   "hash": "0a9b8741f0381a68f5da99551d096090f43ea4bcca6d1e61e2ddc70b06ca9ea3"
  }
 },
 "nbformat": 4,
 "nbformat_minor": 2
}